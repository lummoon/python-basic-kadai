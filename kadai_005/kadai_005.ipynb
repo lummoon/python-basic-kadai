{
  "nbformat": 4,
  "nbformat_minor": 0,
  "metadata": {
    "colab": {
      "provenance": []
    },
    "kernelspec": {
      "name": "python3",
      "display_name": "Python 3"
    },
    "language_info": {
      "name": "python"
    }
  },
  "cells": [
    {
      "cell_type": "code",
      "execution_count": 1,
      "metadata": {
        "id": "8Gzf0K6lg5Q9"
      },
      "outputs": [],
      "source": [
        "top_side = 10\n",
        "bottom_side = 20\n",
        "height = 5"
      ]
    },
    {
      "cell_type": "code",
      "source": [
        "area = (top_side + bottom_side) * height / 2"
      ],
      "metadata": {
        "id": "9wBPonUfhyV1"
      },
      "execution_count": 2,
      "outputs": []
    },
    {
      "cell_type": "code",
      "source": [
        "print(f'台形の面積の計算結果：{area}cm²')"
      ],
      "metadata": {
        "colab": {
          "base_uri": "https://localhost:8080/"
        },
        "id": "HYIkwYxaiAGd",
        "outputId": "51d0ce57-ddd9-474b-d97c-81ee671def09"
      },
      "execution_count": 3,
      "outputs": [
        {
          "output_type": "stream",
          "name": "stdout",
          "text": [
            "台形の面積の計算結果：75.0cm²\n"
          ]
        }
      ]
    },
    {
      "cell_type": "code",
      "source": [],
      "metadata": {
        "id": "BUoHYlODiGqR"
      },
      "execution_count": null,
      "outputs": []
    }
  ]
}