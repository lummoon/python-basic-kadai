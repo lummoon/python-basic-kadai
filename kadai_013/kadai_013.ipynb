{
  "nbformat": 4,
  "nbformat_minor": 0,
  "metadata": {
    "colab": {
      "provenance": []
    },
    "kernelspec": {
      "name": "python3",
      "display_name": "Python 3"
    },
    "language_info": {
      "name": "python"
    }
  },
  "cells": [
    {
      "cell_type": "code",
      "execution_count": 4,
      "metadata": {
        "id": "ew611ULgj8eb"
      },
      "outputs": [],
      "source": [
        "def add_tax(price: int, tax: float) -> float:\n",
        "  return price + price * tax"
      ]
    },
    {
      "cell_type": "code",
      "source": [
        "print(add_tax(price=1000, tax=0.1))"
      ],
      "metadata": {
        "colab": {
          "base_uri": "https://localhost:8080/"
        },
        "id": "grxlnz15yyC1",
        "outputId": "9d66320a-e057-4d90-84bc-b227d8a4ecf6"
      },
      "execution_count": 5,
      "outputs": [
        {
          "output_type": "stream",
          "name": "stdout",
          "text": [
            "1100.0\n"
          ]
        }
      ]
    },
    {
      "cell_type": "code",
      "source": [],
      "metadata": {
        "id": "wyHHkiISy3k6"
      },
      "execution_count": null,
      "outputs": []
    }
  ]
}