{
  "nbformat": 4,
  "nbformat_minor": 0,
  "metadata": {
    "colab": {
      "provenance": []
    },
    "kernelspec": {
      "name": "python3",
      "display_name": "Python 3"
    },
    "language_info": {
      "name": "python"
    }
  },
  "cells": [
    {
      "cell_type": "code",
      "execution_count": 1,
      "metadata": {
        "id": "ew611ULgj8eb"
      },
      "outputs": [],
      "source": [
        "def add_tax(price: int, tax: float) -> int:\n",
        "  return price + price * tax"
      ]
    },
    {
      "cell_type": "code",
      "source": [
        "print(add_tax(price=1000, tax=0.1))"
      ],
      "metadata": {
        "colab": {
          "base_uri": "https://localhost:8080/"
        },
        "id": "grxlnz15yyC1",
        "outputId": "2a453dbb-8eca-4b03-fa58-52ebe5a870a7"
      },
      "execution_count": 2,
      "outputs": [
        {
          "output_type": "stream",
          "name": "stdout",
          "text": [
            "1100.0\n"
          ]
        }
      ]
    },
    {
      "cell_type": "code",
      "source": [],
      "metadata": {
        "id": "wyHHkiISy3k6"
      },
      "execution_count": null,
      "outputs": []
    }
  ]
}