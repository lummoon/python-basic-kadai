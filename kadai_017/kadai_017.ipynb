{
  "nbformat": 4,
  "nbformat_minor": 0,
  "metadata": {
    "colab": {
      "provenance": []
    },
    "kernelspec": {
      "name": "python3",
      "display_name": "Python 3"
    },
    "language_info": {
      "name": "python"
    }
  },
  "cells": [
    {
      "cell_type": "code",
      "execution_count": 3,
      "metadata": {
        "id": "3VfeVUPAJonj"
      },
      "outputs": [],
      "source": [
        "class Human:\n",
        "  def __init__(self, name, age):\n",
        "    self.name = name\n",
        "    self.age = age\n",
        "\n",
        "  def check_adult(self):\n",
        "    if self.age >= 20:\n",
        "      print(f\"{self.name}さんは大人です\")\n",
        "    else:\n",
        "      print(f\"{self.name}さんは大人ではないです\")"
      ]
    },
    {
      "cell_type": "code",
      "source": [
        "taro = Human(\"侍太郎\", 36)\n",
        "hanako = Human(\"侍花子\", 14)\n",
        "jiro = Human(\"侍次郎\", 20)\n",
        "\n",
        "people = [taro, hanako, jiro]\n",
        "\n",
        "for person in people:\n",
        "  person.check_adult()"
      ],
      "metadata": {
        "colab": {
          "base_uri": "https://localhost:8080/"
        },
        "id": "KNU0e2_VKEHB",
        "outputId": "b3bc9826-b2f1-43af-a5a7-6b8795d9ba59"
      },
      "execution_count": 4,
      "outputs": [
        {
          "output_type": "stream",
          "name": "stdout",
          "text": [
            "侍太郎さんは大人です\n",
            "侍花子さんは大人ではないです\n",
            "侍次郎さんは大人です\n"
          ]
        }
      ]
    },
    {
      "cell_type": "code",
      "source": [],
      "metadata": {
        "id": "cpEfls7vLCai"
      },
      "execution_count": null,
      "outputs": []
    }
  ]
}